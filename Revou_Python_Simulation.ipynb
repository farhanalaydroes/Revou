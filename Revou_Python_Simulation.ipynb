{
  "nbformat": 4,
  "nbformat_minor": 0,
  "metadata": {
    "colab": {
      "name": "Revou Python Simulation",
      "provenance": [],
      "collapsed_sections": [
        "iLk28lek34Z5",
        "hRSrlQx89IQ0",
        "cJDUgPcm9TyS",
        "5mEY_V8O-BdI",
        "9h5tzAYo-XJ8",
        "havHNXTJ-tsY",
        "d0_ctE1D_v-A",
        "qTwjzvh1_oAI"
      ]
    },
    "kernelspec": {
      "name": "python3",
      "display_name": "Python 3"
    },
    "language_info": {
      "name": "python"
    }
  },
  "cells": [
    {
      "cell_type": "markdown",
      "source": [
        "# Basic Python"
      ],
      "metadata": {
        "id": "-FIrgATzBKeA"
      }
    },
    {
      "cell_type": "markdown",
      "source": [
        "\n",
        "# Variabel"
      ],
      "metadata": {
        "id": "aU63GN18yLZ6"
      }
    },
    {
      "cell_type": "markdown",
      "source": [
        "Variabel merupakan pengelompokan secara logis dari dua atau lebih suatu atribut dari objek yang diteliti. Atribut yang dimaksudkan, misalnya usia anak-anak, remaja, dan dewasa.\n",
        "\n",
        "Cara 1 ▶"
      ],
      "metadata": {
        "id": "L6DVquz1yytf"
      }
    },
    {
      "cell_type": "code",
      "execution_count": 1,
      "metadata": {
        "id": "BoRJoW1Tw5Es"
      },
      "outputs": [],
      "source": [
        "first_name = 'John'\n",
        "last_name = 'Doe'\n",
        "age = 17\n",
        "gender = 'male'"
      ]
    },
    {
      "cell_type": "code",
      "source": [
        "print (first_name)"
      ],
      "metadata": {
        "id": "6bTYVPdGypAb",
        "colab": {
          "base_uri": "https://localhost:8080/"
        },
        "outputId": "d8108e34-82f9-41a1-ec11-25389289d788"
      },
      "execution_count": 2,
      "outputs": [
        {
          "output_type": "stream",
          "name": "stdout",
          "text": [
            "John\n"
          ]
        }
      ]
    },
    {
      "cell_type": "markdown",
      "source": [
        "Cara 2 ▶"
      ],
      "metadata": {
        "id": "C62svXzRzfpx"
      }
    },
    {
      "cell_type": "code",
      "source": [
        "first_name, last_name, age = 'Snow', 'White', 20"
      ],
      "metadata": {
        "id": "2jgk_xaDzmIL"
      },
      "execution_count": 3,
      "outputs": []
    },
    {
      "cell_type": "code",
      "source": [
        "print (first_name, last_name, age)"
      ],
      "metadata": {
        "id": "V9QNpr1RzzZp",
        "colab": {
          "base_uri": "https://localhost:8080/"
        },
        "outputId": "5b93d66c-7ec3-4353-b1da-3b101aad1253"
      },
      "execution_count": 4,
      "outputs": [
        {
          "output_type": "stream",
          "name": "stdout",
          "text": [
            "Snow White 20\n"
          ]
        }
      ]
    },
    {
      "cell_type": "markdown",
      "source": [
        "# Integer, Float, Boolean, String\n"
      ],
      "metadata": {
        "id": "BFS5xOmr0ts0"
      }
    },
    {
      "cell_type": "markdown",
      "source": [
        "Jenis Jenis Data Structure"
      ],
      "metadata": {
        "id": "QtkotbQi01mB"
      }
    },
    {
      "cell_type": "code",
      "source": [
        "# This is data type integer\n",
        "type(10)"
      ],
      "metadata": {
        "id": "-11bK_er1Hmn",
        "colab": {
          "base_uri": "https://localhost:8080/"
        },
        "outputId": "8b4ac359-704a-46c3-87b8-38eb2d19539d"
      },
      "execution_count": 5,
      "outputs": [
        {
          "output_type": "execute_result",
          "data": {
            "text/plain": [
              "int"
            ]
          },
          "metadata": {},
          "execution_count": 5
        }
      ]
    },
    {
      "cell_type": "code",
      "source": [
        "# This is data type float\n",
        "type(3.14)"
      ],
      "metadata": {
        "id": "sGpjPRwV1W5j",
        "colab": {
          "base_uri": "https://localhost:8080/"
        },
        "outputId": "bbb33a38-58e4-42d9-923c-5914bf5f02cb"
      },
      "execution_count": 6,
      "outputs": [
        {
          "output_type": "execute_result",
          "data": {
            "text/plain": [
              "float"
            ]
          },
          "metadata": {},
          "execution_count": 6
        }
      ]
    },
    {
      "cell_type": "code",
      "source": [
        "# This is data type boolean\n",
        "type(False)"
      ],
      "metadata": {
        "id": "bmyPPt5b1ex_",
        "colab": {
          "base_uri": "https://localhost:8080/"
        },
        "outputId": "c113a6c6-31a8-46c1-fc3a-4df06147c313"
      },
      "execution_count": 7,
      "outputs": [
        {
          "output_type": "execute_result",
          "data": {
            "text/plain": [
              "bool"
            ]
          },
          "metadata": {},
          "execution_count": 7
        }
      ]
    },
    {
      "cell_type": "code",
      "source": [
        "x = 5\n",
        "type(x)"
      ],
      "metadata": {
        "id": "fzzvHZgE1pOb",
        "colab": {
          "base_uri": "https://localhost:8080/"
        },
        "outputId": "8e5460af-6ca3-4d72-aef1-9b6309bbd3b4"
      },
      "execution_count": 8,
      "outputs": [
        {
          "output_type": "execute_result",
          "data": {
            "text/plain": [
              "int"
            ]
          },
          "metadata": {},
          "execution_count": 8
        }
      ]
    },
    {
      "cell_type": "code",
      "source": [
        "# This is data type string\n",
        "y = 'indonesia'\n",
        "type(y)"
      ],
      "metadata": {
        "id": "JXNZS7Da2K2L",
        "colab": {
          "base_uri": "https://localhost:8080/"
        },
        "outputId": "5bf920a8-bc6f-4cda-eac4-db43d8bcde03"
      },
      "execution_count": 9,
      "outputs": [
        {
          "output_type": "execute_result",
          "data": {
            "text/plain": [
              "str"
            ]
          },
          "metadata": {},
          "execution_count": 9
        }
      ]
    },
    {
      "cell_type": "markdown",
      "source": [
        "len() digunakan untuk menentukan jumlah karakter"
      ],
      "metadata": {
        "id": "TG3qc8Rl2eCd"
      }
    },
    {
      "cell_type": "code",
      "source": [
        "len(y)"
      ],
      "metadata": {
        "id": "KCRczO8g2hlS",
        "colab": {
          "base_uri": "https://localhost:8080/"
        },
        "outputId": "b43497f4-3b4f-401a-a100-838f3d668659"
      },
      "execution_count": 10,
      "outputs": [
        {
          "output_type": "execute_result",
          "data": {
            "text/plain": [
              "9"
            ]
          },
          "metadata": {},
          "execution_count": 10
        }
      ]
    },
    {
      "cell_type": "markdown",
      "source": [
        "index digunakan mendapatkan karakter ke berapanya"
      ],
      "metadata": {
        "id": "quxZzODa2v1Q"
      }
    },
    {
      "cell_type": "code",
      "source": [
        "print(y[0])\n",
        "print(y[5])"
      ],
      "metadata": {
        "id": "pljOMS6K20LJ",
        "colab": {
          "base_uri": "https://localhost:8080/"
        },
        "outputId": "f8fc4603-d4fa-4c54-8f92-8c2f93790881"
      },
      "execution_count": 11,
      "outputs": [
        {
          "output_type": "stream",
          "name": "stdout",
          "text": [
            "i\n",
            "e\n"
          ]
        }
      ]
    },
    {
      "cell_type": "markdown",
      "source": [
        "# List"
      ],
      "metadata": {
        "id": "iLk28lek34Z5"
      }
    },
    {
      "cell_type": "markdown",
      "source": [
        "List mengisi dalam elemen"
      ],
      "metadata": {
        "id": "YOsmXVFw38X-"
      }
    },
    {
      "cell_type": "code",
      "source": [
        "this_is_blank_list = []\n",
        "print(this_is_blank_list)"
      ],
      "metadata": {
        "id": "J-wM7BSH3372",
        "colab": {
          "base_uri": "https://localhost:8080/"
        },
        "outputId": "c5b22f70-bb9e-434b-e613-f811012e73ab"
      },
      "execution_count": 12,
      "outputs": [
        {
          "output_type": "stream",
          "name": "stdout",
          "text": [
            "[]\n"
          ]
        }
      ]
    },
    {
      "cell_type": "code",
      "source": [
        "this_is_also_blank_list = list()\n",
        "print(this_is_also_blank_list)"
      ],
      "metadata": {
        "id": "fJ9hsoyL4hV2",
        "colab": {
          "base_uri": "https://localhost:8080/"
        },
        "outputId": "9beda212-95a5-4254-a7a0-ecc428aa289b"
      },
      "execution_count": 13,
      "outputs": [
        {
          "output_type": "stream",
          "name": "stdout",
          "text": [
            "[]\n"
          ]
        }
      ]
    },
    {
      "cell_type": "code",
      "source": [
        "list_from_string = list('yellow')\n",
        "print(list_from_string)"
      ],
      "metadata": {
        "id": "FCYMV1tX4rCa",
        "colab": {
          "base_uri": "https://localhost:8080/"
        },
        "outputId": "c9cd902b-4304-4639-ca9f-193141cf4abf"
      },
      "execution_count": 14,
      "outputs": [
        {
          "output_type": "stream",
          "name": "stdout",
          "text": [
            "['y', 'e', 'l', 'l', 'o', 'w']\n"
          ]
        }
      ]
    },
    {
      "cell_type": "code",
      "source": [
        "also_list_with_string = ['yellow','blue']\n",
        "print(also_list_with_string)"
      ],
      "metadata": {
        "id": "i84tFmYe4-BA",
        "colab": {
          "base_uri": "https://localhost:8080/"
        },
        "outputId": "178a586f-d70b-42d5-9e69-cacff0dec395"
      },
      "execution_count": 15,
      "outputs": [
        {
          "output_type": "stream",
          "name": "stdout",
          "text": [
            "['yellow', 'blue']\n"
          ]
        }
      ]
    },
    {
      "cell_type": "code",
      "source": [
        "list_with_number = [10,12]\n",
        "list_with_number_and_string = ['yellow', 10]\n",
        "print('2 angka pilihan adalah :', list_with_number)\n",
        "print('angka dan huruf anda adalah :' , list_with_number_and_string)"
      ],
      "metadata": {
        "id": "67rFVYFN5RAn",
        "colab": {
          "base_uri": "https://localhost:8080/"
        },
        "outputId": "e2fcf8b8-66f0-4317-e5ed-d8815ed3b3ae"
      },
      "execution_count": 16,
      "outputs": [
        {
          "output_type": "stream",
          "name": "stdout",
          "text": [
            "2 angka pilihan adalah : [10, 12]\n",
            "angka dan huruf anda adalah : ['yellow', 10]\n"
          ]
        }
      ]
    },
    {
      "cell_type": "markdown",
      "source": [
        "Pake Len() di dalam list"
      ],
      "metadata": {
        "id": "rAi5Nqgc6Bmx"
      }
    },
    {
      "cell_type": "code",
      "source": [
        "print(len(list_with_number_and_string))\n",
        "print(len(this_is_blank_list))"
      ],
      "metadata": {
        "id": "rqVcf02a6AJx",
        "colab": {
          "base_uri": "https://localhost:8080/"
        },
        "outputId": "4546efce-8cd4-4c99-db23-7ceb76e2ebb7"
      },
      "execution_count": 17,
      "outputs": [
        {
          "output_type": "stream",
          "name": "stdout",
          "text": [
            "2\n",
            "0\n"
          ]
        }
      ]
    },
    {
      "cell_type": "markdown",
      "source": [
        "List menggunakan index"
      ],
      "metadata": {
        "id": "uZubz2OF6bkx"
      }
    },
    {
      "cell_type": "code",
      "source": [
        "print(also_list_with_string[0])"
      ],
      "metadata": {
        "id": "lhM_s5q36Zlr",
        "colab": {
          "base_uri": "https://localhost:8080/"
        },
        "outputId": "994cf3ea-3424-4ce1-cc88-83a868bb25ea"
      },
      "execution_count": 18,
      "outputs": [
        {
          "output_type": "stream",
          "name": "stdout",
          "text": [
            "yellow\n"
          ]
        }
      ]
    },
    {
      "cell_type": "markdown",
      "source": [
        "Mengambil bagian dari elemen"
      ],
      "metadata": {
        "id": "bIFnYuB865nK"
      }
    },
    {
      "cell_type": "code",
      "source": [
        "print(also_list_with_string[0][3])"
      ],
      "metadata": {
        "id": "0SPARfX_6sHZ",
        "colab": {
          "base_uri": "https://localhost:8080/"
        },
        "outputId": "4dee849d-93c3-4d3a-c064-7676ab1d97b0"
      },
      "execution_count": 19,
      "outputs": [
        {
          "output_type": "stream",
          "name": "stdout",
          "text": [
            "l\n"
          ]
        }
      ]
    },
    {
      "cell_type": "markdown",
      "source": [
        "mengambil dari banyak variabel"
      ],
      "metadata": {
        "id": "HoR2ihYV7P1T"
      }
    },
    {
      "cell_type": "code",
      "source": [
        "first_color, second_color = also_list_with_string\n",
        "print(first_color)\n",
        "print(second_color)"
      ],
      "metadata": {
        "id": "SfQ8lSlK7Tr6",
        "colab": {
          "base_uri": "https://localhost:8080/"
        },
        "outputId": "93bc981b-9641-4f8c-f862-9bf1a1d02bca"
      },
      "execution_count": 20,
      "outputs": [
        {
          "output_type": "stream",
          "name": "stdout",
          "text": [
            "yellow\n",
            "blue\n"
          ]
        }
      ]
    },
    {
      "cell_type": "code",
      "source": [
        "list_with_more_color = ['yellow', 'blue', 'pink']\n",
        "first_color, second_color, third_color = list_with_more_color\n",
        "print(first_color)"
      ],
      "metadata": {
        "id": "ukeTjGik7qN4",
        "colab": {
          "base_uri": "https://localhost:8080/"
        },
        "outputId": "7f926d0d-5d57-40be-91fa-d17d301f6b77"
      },
      "execution_count": 21,
      "outputs": [
        {
          "output_type": "stream",
          "name": "stdout",
          "text": [
            "yellow\n"
          ]
        }
      ]
    },
    {
      "cell_type": "code",
      "source": [
        "Python * digunakan untuk memanggil sisanya"
      ],
      "metadata": {
        "id": "cRR-6sTu8JlI",
        "colab": {
          "base_uri": "https://localhost:8080/",
          "height": 133
        },
        "outputId": "3482fbf4-a6a5-4aee-e617-fedd7ca20880"
      },
      "execution_count": 22,
      "outputs": [
        {
          "output_type": "error",
          "ename": "SyntaxError",
          "evalue": "ignored",
          "traceback": [
            "\u001b[0;36m  File \u001b[0;32m\"<ipython-input-22-962d6231a6c3>\"\u001b[0;36m, line \u001b[0;32m1\u001b[0m\n\u001b[0;31m    Python * digunakan untuk memanggil sisanya\u001b[0m\n\u001b[0m                           ^\u001b[0m\n\u001b[0;31mSyntaxError\u001b[0m\u001b[0;31m:\u001b[0m invalid syntax\n"
          ]
        }
      ]
    },
    {
      "cell_type": "code",
      "source": [
        "list_with_more_color = ['yellow', 'blue', 'pink','white']\n",
        "first_color, *rest_of_color = list_with_more_color\n",
        "print(first_color)\n",
        "print(rest_of_color)\n"
      ],
      "metadata": {
        "id": "rDm5JKrk8IHI",
        "colab": {
          "base_uri": "https://localhost:8080/"
        },
        "outputId": "4445a15c-ccd0-44f6-cb8d-575db8766720"
      },
      "execution_count": 23,
      "outputs": [
        {
          "output_type": "stream",
          "name": "stdout",
          "text": [
            "yellow\n",
            "['blue', 'pink', 'white']\n"
          ]
        }
      ]
    },
    {
      "cell_type": "markdown",
      "source": [
        "# Conditional"
      ],
      "metadata": {
        "id": "hRSrlQx89IQ0"
      }
    },
    {
      "cell_type": "markdown",
      "source": [
        "Conditional IF, elif, else, and colon"
      ],
      "metadata": {
        "id": "u7Lyyqsw9N1m"
      }
    },
    {
      "cell_type": "markdown",
      "source": [
        "# Conditional - IF"
      ],
      "metadata": {
        "id": "cJDUgPcm9TyS"
      }
    },
    {
      "cell_type": "code",
      "source": [
        "a = 3\n",
        "if a > 0:\n",
        "  print('A is a positive number')"
      ],
      "metadata": {
        "id": "Q4PiLlwp9TRO",
        "colab": {
          "base_uri": "https://localhost:8080/"
        },
        "outputId": "5abf3248-de4f-406a-dd0f-f040b35907c7"
      },
      "execution_count": 24,
      "outputs": [
        {
          "output_type": "stream",
          "name": "stdout",
          "text": [
            "A is a positive number\n"
          ]
        }
      ]
    },
    {
      "cell_type": "markdown",
      "source": [
        "# Conditional - If Else"
      ],
      "metadata": {
        "id": "5mEY_V8O-BdI"
      }
    },
    {
      "cell_type": "code",
      "source": [
        "a = 3\n",
        "if a < 0:\n",
        "  print('A is a negative number')\n",
        "else:\n",
        "  print('A is a positive number')"
      ],
      "metadata": {
        "id": "rKHLPcAd9LlS",
        "colab": {
          "base_uri": "https://localhost:8080/"
        },
        "outputId": "af9a4091-11a6-4ef4-be27-1bcfbf845142"
      },
      "execution_count": 25,
      "outputs": [
        {
          "output_type": "stream",
          "name": "stdout",
          "text": [
            "A is a positive number\n"
          ]
        }
      ]
    },
    {
      "cell_type": "markdown",
      "source": [
        "# Conditional - Elif"
      ],
      "metadata": {
        "id": "9h5tzAYo-XJ8"
      }
    },
    {
      "cell_type": "code",
      "source": [
        "a = 3\n",
        "if a < 0:\n",
        "  print('A is a negative number')\n",
        "elif a > 0:\n",
        "  print('A is a positive number') \n",
        "else:\n",
        "  print('A is A zero')"
      ],
      "metadata": {
        "id": "M9bLHaFm-dHt",
        "colab": {
          "base_uri": "https://localhost:8080/"
        },
        "outputId": "b6d5a1f3-3e8c-416d-bb3f-e090d3838efb"
      },
      "execution_count": 26,
      "outputs": [
        {
          "output_type": "stream",
          "name": "stdout",
          "text": [
            "A is a positive number\n"
          ]
        }
      ]
    },
    {
      "cell_type": "markdown",
      "source": [
        "# Loop"
      ],
      "metadata": {
        "id": "havHNXTJ-tsY"
      }
    },
    {
      "cell_type": "markdown",
      "source": [
        "Loop terdiri dari 2 ada for dan while dan termasuk iterative"
      ],
      "metadata": {
        "id": "iB9EK3GP-xP-"
      }
    },
    {
      "cell_type": "markdown",
      "source": [
        "# Loop - For"
      ],
      "metadata": {
        "id": "d0_ctE1D_v-A"
      }
    },
    {
      "cell_type": "code",
      "source": [
        "word = 'python'\n",
        "for character in word:\n",
        "  print(character, end = '.')"
      ],
      "metadata": {
        "id": "eB37Un9P-23W",
        "colab": {
          "base_uri": "https://localhost:8080/"
        },
        "outputId": "22b2c823-d311-45a1-f1df-6b41465adb59"
      },
      "execution_count": 27,
      "outputs": [
        {
          "output_type": "stream",
          "name": "stdout",
          "text": [
            "p.y.t.h.o.n."
          ]
        }
      ]
    },
    {
      "cell_type": "code",
      "source": [
        "numbers = [0,1,2,3,4,6]\n",
        "for number in numbers:\n",
        "  print(number)"
      ],
      "metadata": {
        "id": "RKEIY8JR_D96",
        "colab": {
          "base_uri": "https://localhost:8080/"
        },
        "outputId": "eca9ce4d-f27b-448d-e63c-a895dd43269c"
      },
      "execution_count": 28,
      "outputs": [
        {
          "output_type": "stream",
          "name": "stdout",
          "text": [
            "0\n",
            "1\n",
            "2\n",
            "3\n",
            "4\n",
            "6\n"
          ]
        }
      ]
    },
    {
      "cell_type": "code",
      "source": [
        "numbers = (0,1,2,3,4,5)\n",
        "for number in numbers:\n",
        "  print(number)\n",
        "  if number == 3:\n",
        "    break"
      ],
      "metadata": {
        "id": "5xOtinfD_YFF",
        "colab": {
          "base_uri": "https://localhost:8080/"
        },
        "outputId": "b68c7463-cc93-48ba-8874-f8ec8eb5fbe1"
      },
      "execution_count": 29,
      "outputs": [
        {
          "output_type": "stream",
          "name": "stdout",
          "text": [
            "0\n",
            "1\n",
            "2\n",
            "3\n"
          ]
        }
      ]
    },
    {
      "cell_type": "markdown",
      "source": [
        "# Loop - While"
      ],
      "metadata": {
        "id": "qTwjzvh1_oAI"
      }
    },
    {
      "cell_type": "code",
      "source": [
        "print('this is the example of while\\n')\n",
        "a = 1\n",
        "b = 3\n",
        "while a < 8:\n",
        "  print(a)\n",
        "  a = a+b"
      ],
      "metadata": {
        "id": "bcDhJ7hf_0GD",
        "colab": {
          "base_uri": "https://localhost:8080/"
        },
        "outputId": "129dbaad-87f4-4a97-c90d-bc536b9ac9aa"
      },
      "execution_count": 30,
      "outputs": [
        {
          "output_type": "stream",
          "name": "stdout",
          "text": [
            "this is the example of while\n",
            "\n",
            "1\n",
            "4\n",
            "7\n"
          ]
        }
      ]
    },
    {
      "cell_type": "code",
      "source": [
        "count = 0\n",
        "while count < 5:\n",
        "  print(count)\n",
        "  count = count + 1\n",
        "else:\n",
        "  print('this is else')"
      ],
      "metadata": {
        "id": "VQ1_77PCAJv-",
        "colab": {
          "base_uri": "https://localhost:8080/"
        },
        "outputId": "f0989f4b-956a-49d1-cfb5-b3880734a4b4"
      },
      "execution_count": 31,
      "outputs": [
        {
          "output_type": "stream",
          "name": "stdout",
          "text": [
            "0\n",
            "1\n",
            "2\n",
            "3\n",
            "4\n",
            "this is else\n"
          ]
        }
      ]
    }
  ]
}