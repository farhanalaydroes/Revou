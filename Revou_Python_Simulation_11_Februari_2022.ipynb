{
  "nbformat": 4,
  "nbformat_minor": 0,
  "metadata": {
    "colab": {
      "name": "Revou Python Simulation - 11 Februari 2022",
      "provenance": [],
      "collapsed_sections": [
        "iLk28lek34Z5",
        "hRSrlQx89IQ0",
        "cJDUgPcm9TyS",
        "5mEY_V8O-BdI",
        "9h5tzAYo-XJ8",
        "havHNXTJ-tsY",
        "d0_ctE1D_v-A",
        "qTwjzvh1_oAI"
      ]
    },
    "kernelspec": {
      "name": "python3",
      "display_name": "Python 3"
    },
    "language_info": {
      "name": "python"
    }
  },
  "cells": [
    {
      "cell_type": "markdown",
      "source": [
        "# Basic Python"
      ],
      "metadata": {
        "id": "-FIrgATzBKeA"
      }
    },
    {
      "cell_type": "markdown",
      "source": [
        "\n",
        "# Variabel"
      ],
      "metadata": {
        "id": "aU63GN18yLZ6"
      }
    },
    {
      "cell_type": "markdown",
      "source": [
        "Variabel merupakan pengelompokan secara logis dari dua atau lebih suatu atribut dari objek yang diteliti. Atribut yang dimaksudkan, misalnya usia anak-anak, remaja, dan dewasa.\n",
        "\n",
        "Cara 1 ▶"
      ],
      "metadata": {
        "id": "L6DVquz1yytf"
      }
    },
    {
      "cell_type": "code",
      "execution_count": null,
      "metadata": {
        "id": "BoRJoW1Tw5Es"
      },
      "outputs": [],
      "source": [
        "first_name = 'John'\n",
        "last_name = 'Doe'\n",
        "age = 17\n",
        "gender = 'male'"
      ]
    },
    {
      "cell_type": "code",
      "source": [
        "print (first_name)"
      ],
      "metadata": {
        "id": "6bTYVPdGypAb"
      },
      "execution_count": null,
      "outputs": []
    },
    {
      "cell_type": "markdown",
      "source": [
        "Cara 2 ▶"
      ],
      "metadata": {
        "id": "C62svXzRzfpx"
      }
    },
    {
      "cell_type": "code",
      "source": [
        "first_name, last_name, age = 'Snow', 'White', 20"
      ],
      "metadata": {
        "id": "2jgk_xaDzmIL"
      },
      "execution_count": null,
      "outputs": []
    },
    {
      "cell_type": "code",
      "source": [
        "print (first_name, last_name, age)"
      ],
      "metadata": {
        "id": "V9QNpr1RzzZp"
      },
      "execution_count": null,
      "outputs": []
    },
    {
      "cell_type": "markdown",
      "source": [
        "# Integer, Float, Boolean, String\n"
      ],
      "metadata": {
        "id": "BFS5xOmr0ts0"
      }
    },
    {
      "cell_type": "markdown",
      "source": [
        "Jenis Jenis Data Structure"
      ],
      "metadata": {
        "id": "QtkotbQi01mB"
      }
    },
    {
      "cell_type": "code",
      "source": [
        "# This is data type integer\n",
        "type(10)"
      ],
      "metadata": {
        "id": "-11bK_er1Hmn"
      },
      "execution_count": null,
      "outputs": []
    },
    {
      "cell_type": "code",
      "source": [
        "# This is data type float\n",
        "type(3.14)"
      ],
      "metadata": {
        "id": "sGpjPRwV1W5j"
      },
      "execution_count": null,
      "outputs": []
    },
    {
      "cell_type": "code",
      "source": [
        "# This is data type boolean\n",
        "type(False)"
      ],
      "metadata": {
        "id": "bmyPPt5b1ex_"
      },
      "execution_count": null,
      "outputs": []
    },
    {
      "cell_type": "code",
      "source": [
        "x = 5\n",
        "type(x)"
      ],
      "metadata": {
        "id": "fzzvHZgE1pOb"
      },
      "execution_count": null,
      "outputs": []
    },
    {
      "cell_type": "code",
      "source": [
        "# This is data type string\n",
        "y = 'indonesia'\n",
        "type(y)"
      ],
      "metadata": {
        "id": "JXNZS7Da2K2L"
      },
      "execution_count": null,
      "outputs": []
    },
    {
      "cell_type": "markdown",
      "source": [
        "len() digunakan untuk menentukan jumlah karakter"
      ],
      "metadata": {
        "id": "TG3qc8Rl2eCd"
      }
    },
    {
      "cell_type": "code",
      "source": [
        "len(y)"
      ],
      "metadata": {
        "id": "KCRczO8g2hlS"
      },
      "execution_count": null,
      "outputs": []
    },
    {
      "cell_type": "markdown",
      "source": [
        "index digunakan mendapatkan karakter ke berapanya"
      ],
      "metadata": {
        "id": "quxZzODa2v1Q"
      }
    },
    {
      "cell_type": "code",
      "source": [
        "print(y[0])\n",
        "print(y[5])"
      ],
      "metadata": {
        "id": "pljOMS6K20LJ"
      },
      "execution_count": null,
      "outputs": []
    },
    {
      "cell_type": "markdown",
      "source": [
        "# List"
      ],
      "metadata": {
        "id": "iLk28lek34Z5"
      }
    },
    {
      "cell_type": "markdown",
      "source": [
        "List mengisi dalam elemen"
      ],
      "metadata": {
        "id": "YOsmXVFw38X-"
      }
    },
    {
      "cell_type": "code",
      "source": [
        "this_is_blank_list = []\n",
        "print(this_is_blank_list)"
      ],
      "metadata": {
        "id": "J-wM7BSH3372"
      },
      "execution_count": null,
      "outputs": []
    },
    {
      "cell_type": "code",
      "source": [
        "this_is_also_blank_list = list()\n",
        "print(this_is_also_blank_list)"
      ],
      "metadata": {
        "id": "fJ9hsoyL4hV2"
      },
      "execution_count": null,
      "outputs": []
    },
    {
      "cell_type": "code",
      "source": [
        "list_from_string = list('yellow')\n",
        "print(list_from_string)"
      ],
      "metadata": {
        "id": "FCYMV1tX4rCa"
      },
      "execution_count": null,
      "outputs": []
    },
    {
      "cell_type": "code",
      "source": [
        "also_list_with_string = ['yellow','blue']\n",
        "print(also_list_with_string)"
      ],
      "metadata": {
        "id": "i84tFmYe4-BA"
      },
      "execution_count": null,
      "outputs": []
    },
    {
      "cell_type": "code",
      "source": [
        "list_with_number = [10,12]\n",
        "list_with_number_and_string = ['yellow', 10]\n",
        "print('2 angka pilihan adalah :', list_with_number)\n",
        "print('angka dan huruf anda adalah :' , list_with_number_and_string)"
      ],
      "metadata": {
        "id": "67rFVYFN5RAn"
      },
      "execution_count": null,
      "outputs": []
    },
    {
      "cell_type": "markdown",
      "source": [
        "Pake Len() di dalam list"
      ],
      "metadata": {
        "id": "rAi5Nqgc6Bmx"
      }
    },
    {
      "cell_type": "code",
      "source": [
        "print(len(list_with_number_and_string))\n",
        "print(len(this_is_blank_list))"
      ],
      "metadata": {
        "id": "rqVcf02a6AJx"
      },
      "execution_count": null,
      "outputs": []
    },
    {
      "cell_type": "markdown",
      "source": [
        "List menggunakan index"
      ],
      "metadata": {
        "id": "uZubz2OF6bkx"
      }
    },
    {
      "cell_type": "code",
      "source": [
        "print(also_list_with_string[0])"
      ],
      "metadata": {
        "id": "lhM_s5q36Zlr"
      },
      "execution_count": null,
      "outputs": []
    },
    {
      "cell_type": "markdown",
      "source": [
        "Mengambil bagian dari elemen"
      ],
      "metadata": {
        "id": "bIFnYuB865nK"
      }
    },
    {
      "cell_type": "code",
      "source": [
        "print(also_list_with_string[0][3])"
      ],
      "metadata": {
        "id": "0SPARfX_6sHZ"
      },
      "execution_count": null,
      "outputs": []
    },
    {
      "cell_type": "markdown",
      "source": [
        "mengambil dari banyak variabel"
      ],
      "metadata": {
        "id": "HoR2ihYV7P1T"
      }
    },
    {
      "cell_type": "code",
      "source": [
        "first_color, second_color = also_list_with_string\n",
        "print(first_color)\n",
        "print(second_color)"
      ],
      "metadata": {
        "id": "SfQ8lSlK7Tr6"
      },
      "execution_count": null,
      "outputs": []
    },
    {
      "cell_type": "code",
      "source": [
        "list_with_more_color = ['yellow', 'blue', 'pink']\n",
        "first_color, second_color, third_color = list_with_more_color\n",
        "print(first_color)"
      ],
      "metadata": {
        "id": "ukeTjGik7qN4"
      },
      "execution_count": null,
      "outputs": []
    },
    {
      "cell_type": "code",
      "source": [
        "Python * digunakan untuk memanggil sisanya"
      ],
      "metadata": {
        "id": "cRR-6sTu8JlI"
      },
      "execution_count": null,
      "outputs": []
    },
    {
      "cell_type": "code",
      "source": [
        "list_with_more_color = ['yellow', 'blue', 'pink','white']\n",
        "first_color, *rest_of_color = list_with_more_color\n",
        "print(first_color)\n",
        "print(rest_of_color)\n"
      ],
      "metadata": {
        "id": "rDm5JKrk8IHI"
      },
      "execution_count": null,
      "outputs": []
    },
    {
      "cell_type": "markdown",
      "source": [
        "# Conditional"
      ],
      "metadata": {
        "id": "hRSrlQx89IQ0"
      }
    },
    {
      "cell_type": "markdown",
      "source": [
        "Conditional IF, elif, else, and colon"
      ],
      "metadata": {
        "id": "u7Lyyqsw9N1m"
      }
    },
    {
      "cell_type": "markdown",
      "source": [
        "# Conditional - IF"
      ],
      "metadata": {
        "id": "cJDUgPcm9TyS"
      }
    },
    {
      "cell_type": "code",
      "source": [
        "a = 3\n",
        "if a > 0:\n",
        "  print('A is a positive number')"
      ],
      "metadata": {
        "id": "Q4PiLlwp9TRO"
      },
      "execution_count": null,
      "outputs": []
    },
    {
      "cell_type": "markdown",
      "source": [
        "# Conditional - If Else"
      ],
      "metadata": {
        "id": "5mEY_V8O-BdI"
      }
    },
    {
      "cell_type": "code",
      "source": [
        "a = 3\n",
        "if a < 0:\n",
        "  print('A is a negative number')\n",
        "else:\n",
        "  print('A is a positive number')"
      ],
      "metadata": {
        "id": "rKHLPcAd9LlS"
      },
      "execution_count": null,
      "outputs": []
    },
    {
      "cell_type": "markdown",
      "source": [
        "# Conditional - Elif"
      ],
      "metadata": {
        "id": "9h5tzAYo-XJ8"
      }
    },
    {
      "cell_type": "code",
      "source": [
        "a = 3\n",
        "if a < 0:\n",
        "  print('A is a negative number')\n",
        "elif a > 0:\n",
        "  print('A is a positive number') \n",
        "else:\n",
        "  print('A is A zero')"
      ],
      "metadata": {
        "id": "M9bLHaFm-dHt"
      },
      "execution_count": null,
      "outputs": []
    },
    {
      "cell_type": "markdown",
      "source": [
        "# Loop"
      ],
      "metadata": {
        "id": "havHNXTJ-tsY"
      }
    },
    {
      "cell_type": "markdown",
      "source": [
        "Loop terdiri dari 2 ada for dan while dan termasuk iterative"
      ],
      "metadata": {
        "id": "iB9EK3GP-xP-"
      }
    },
    {
      "cell_type": "markdown",
      "source": [
        "# Loop - For"
      ],
      "metadata": {
        "id": "d0_ctE1D_v-A"
      }
    },
    {
      "cell_type": "code",
      "source": [
        "word = 'python'\n",
        "for character in word:\n",
        "  print(character, end = '.')"
      ],
      "metadata": {
        "id": "eB37Un9P-23W"
      },
      "execution_count": null,
      "outputs": []
    },
    {
      "cell_type": "code",
      "source": [
        "numbers = [0,1,2,3,4,6]\n",
        "for number in numbers:\n",
        "  print(number)"
      ],
      "metadata": {
        "id": "RKEIY8JR_D96"
      },
      "execution_count": null,
      "outputs": []
    },
    {
      "cell_type": "code",
      "source": [
        "numbers = (0,1,2,3,4,5)\n",
        "for number in numbers:\n",
        "  print(number)\n",
        "  if number == 3:\n",
        "    break"
      ],
      "metadata": {
        "id": "5xOtinfD_YFF"
      },
      "execution_count": null,
      "outputs": []
    },
    {
      "cell_type": "markdown",
      "source": [
        "# Loop - While"
      ],
      "metadata": {
        "id": "qTwjzvh1_oAI"
      }
    },
    {
      "cell_type": "code",
      "source": [
        "print('this is the example of while\\n')\n",
        "a = 1\n",
        "b = 3\n",
        "while a < 8:\n",
        "  print(a)\n",
        "  a = a+b"
      ],
      "metadata": {
        "id": "bcDhJ7hf_0GD"
      },
      "execution_count": null,
      "outputs": []
    },
    {
      "cell_type": "code",
      "source": [
        "count = 0\n",
        "while count < 5:\n",
        "  print(count)\n",
        "  count = count + 1\n",
        "else:\n",
        "  print('this is else')"
      ],
      "metadata": {
        "id": "VQ1_77PCAJv-"
      },
      "execution_count": null,
      "outputs": []
    }
  ]
}